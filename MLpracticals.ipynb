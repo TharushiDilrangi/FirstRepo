{
  "nbformat": 4,
  "nbformat_minor": 0,
  "metadata": {
    "colab": {
      "provenance": [],
      "authorship_tag": "ABX9TyPFAxZ+tBGd/YDNSvSkcFsy",
      "include_colab_link": true
    },
    "kernelspec": {
      "name": "python3",
      "display_name": "Python 3"
    },
    "language_info": {
      "name": "python"
    }
  },
  "cells": [
    {
      "cell_type": "markdown",
      "metadata": {
        "id": "view-in-github",
        "colab_type": "text"
      },
      "source": [
        "<a href=\"https://colab.research.google.com/github/TharushiDilrangi/FirstRepo/blob/master/MLpracticals.ipynb\" target=\"_parent\"><img src=\"https://colab.research.google.com/assets/colab-badge.svg\" alt=\"Open In Colab\"/></a>"
      ]
    },
    {
      "cell_type": "markdown",
      "source": [
        "**Importing numpy**\n",
        "What is Numpy?\n",
        "  - Numpy is a Python library for creating and manipulating matrices, the main data structure used by ML algorithms"
      ],
      "metadata": {
        "id": "IMRQXVarZU7j"
      }
    },
    {
      "cell_type": "code",
      "execution_count": 2,
      "metadata": {
        "id": "3B7o6QnPZLy6"
      },
      "outputs": [],
      "source": [
        "import numpy as np"
      ]
    },
    {
      "cell_type": "code",
      "source": [
        "oneDarray = np.array([1.2, 2.4, 3.5, 4.7, 6.1, 7.2, 8.3, 9.5])\n",
        "print(oneDarray)"
      ],
      "metadata": {
        "colab": {
          "base_uri": "https://localhost:8080/"
        },
        "id": "uTfpdfrOaa0e",
        "outputId": "31cf827a-b0ca-4390-deab-57e3a80033db"
      },
      "execution_count": 4,
      "outputs": [
        {
          "output_type": "stream",
          "name": "stdout",
          "text": [
            "[1.2 2.4 3.5 4.7 6.1 7.2 8.3 9.5]\n"
          ]
        }
      ]
    },
    {
      "cell_type": "code",
      "source": [
        "twoDarray = np.array([[6, 5], [11, 7], [4, 8]])\n",
        "print(twoDarray)"
      ],
      "metadata": {
        "colab": {
          "base_uri": "https://localhost:8080/"
        },
        "id": "Kp8XbqcEa5Vz",
        "outputId": "412c13b5-8688-4fd2-c6ba-f81400b38d0b"
      },
      "execution_count": 5,
      "outputs": [
        {
          "output_type": "stream",
          "name": "stdout",
          "text": [
            "[[ 6  5]\n",
            " [11  7]\n",
            " [ 4  8]]\n"
          ]
        }
      ]
    },
    {
      "cell_type": "code",
      "source": [
        "for i in range(10,16):\n",
        "  arr=np.array([i])\n",
        "  print (arr)"
      ],
      "metadata": {
        "colab": {
          "base_uri": "https://localhost:8080/"
        },
        "id": "QZKtXMC2bOf9",
        "outputId": "008c8755-aeee-44d5-c9b8-7a8d734fce82"
      },
      "execution_count": 13,
      "outputs": [
        {
          "output_type": "stream",
          "name": "stdout",
          "text": [
            "[10]\n",
            "[11]\n",
            "[12]\n",
            "[13]\n",
            "[14]\n",
            "[15]\n"
          ]
        }
      ]
    },
    {
      "cell_type": "code",
      "source": [
        "sequence_of_integers = np.arange(5, 12)\n",
        "print(sequence_of_integers)"
      ],
      "metadata": {
        "colab": {
          "base_uri": "https://localhost:8080/"
        },
        "id": "Y3RG9M5RcF6g",
        "outputId": "d8d59c16-8e0a-4e83-a155-50f49dd21029"
      },
      "execution_count": 11,
      "outputs": [
        {
          "output_type": "stream",
          "name": "stdout",
          "text": [
            "[ 5  6  7  8  9 10 11]\n"
          ]
        }
      ]
    },
    {
      "cell_type": "markdown",
      "source": [
        "To assign random values: random()"
      ],
      "metadata": {
        "id": "pe9blikCcnzB"
      }
    },
    {
      "cell_type": "code",
      "source": [
        "random_floats_between_0_and_1 = np.random.random((6,))\n",
        "print(random_floats_between_0_and_1)"
      ],
      "metadata": {
        "colab": {
          "base_uri": "https://localhost:8080/"
        },
        "id": "bKHJclP6cj7t",
        "outputId": "7d2b4e57-2574-439d-df16-0c94a450bf93"
      },
      "execution_count": 22,
      "outputs": [
        {
          "output_type": "stream",
          "name": "stdout",
          "text": [
            "[0.43877362 0.2613409  0.26858067 0.47695063 0.59874428 0.10257202]\n"
          ]
        }
      ]
    },
    {
      "cell_type": "markdown",
      "source": [
        "To create an array from 6 to 20: **np.arange(6,21)**"
      ],
      "metadata": {
        "id": "9Yw9odkhePjz"
      }
    },
    {
      "cell_type": "code",
      "source": [
        "feature = np.arange(6,21)\n",
        "print(feature)\n",
        "label = 3*feature+4\n",
        "print(label)"
      ],
      "metadata": {
        "colab": {
          "base_uri": "https://localhost:8080/"
        },
        "id": "LUXJRuKKdPM0",
        "outputId": "fc49528c-7b25-4634-b6c1-d31b55513d75"
      },
      "execution_count": 18,
      "outputs": [
        {
          "output_type": "stream",
          "name": "stdout",
          "text": [
            "[ 6  7  8  9 10 11 12 13 14 15 16 17 18 19 20]\n",
            "[22 25 28 31 34 37 40 43 46 49 52 55 58 61 64]\n"
          ]
        }
      ]
    },
    {
      "cell_type": "markdown",
      "source": [
        "## **Task 2: Add Some Noise to the Dataset**"
      ],
      "metadata": {
        "id": "ZMLFRBW_e6a4"
      }
    },
    {
      "cell_type": "code",
      "source": [
        "noise = np.random.uniform(low=-2, high=2, size=(15,))\n",
        "print(noise)\n",
        "label = label+noise\n",
        "\n",
        "print(label)"
      ],
      "metadata": {
        "colab": {
          "base_uri": "https://localhost:8080/"
        },
        "id": "X0RJHJqHe-qh",
        "outputId": "d47d1b82-0f98-4b2f-8acc-8fef1c3528b8"
      },
      "execution_count": 30,
      "outputs": [
        {
          "output_type": "stream",
          "name": "stdout",
          "text": [
            "[ 1.35044869  1.0519485  -1.90271455  0.03941296 -0.05378454  0.84235223\n",
            "  0.76449905 -0.77101054  1.86787574 -1.90355741 -0.97778574 -1.8405986\n",
            " -1.2652291  -0.24237321  1.64606418]\n",
            "[21.02337716 24.46665359 25.24226486 33.88938654 30.9950577  35.72342045\n",
            " 42.4168038  45.25547265 50.21222955 50.28174121 50.5051896  51.25754847\n",
            " 58.24097561 63.0282049  65.41579634]\n"
          ]
        }
      ]
    },
    {
      "cell_type": "markdown",
      "source": [
        "# ***PANDAS TUTORIAL***"
      ],
      "metadata": {
        "id": "W4QvChXNi2RL"
      }
    },
    {
      "cell_type": "code",
      "source": [
        "import numpy as np\n",
        "import pandas as pd"
      ],
      "metadata": {
        "id": "50h2t1k0i8Ok"
      },
      "execution_count": 31,
      "outputs": []
    },
    {
      "cell_type": "code",
      "source": [
        "# Create and populate a 5x2 NumPy array.\n",
        "my_data = np.array([[0, 3], [10, 7], [20, 9], [30, 14], [40, 15]])\n",
        "\n",
        "# Create a Python list that holds the names of the two columns.\n",
        "my_column_names = ['temperature', 'activity']\n",
        "\n",
        "# Create a DataFrame.\n",
        "my_dataframe = pd.DataFrame(data=my_data, columns=my_column_names)\n",
        "\n",
        "# Create a new column named adjusted.\n",
        "my_dataframe[\"adjusted\"] = my_dataframe[\"activity\"] + 20\n",
        "\n",
        "# Print the entire DataFrame\n",
        "print(my_dataframe)"
      ],
      "metadata": {
        "colab": {
          "base_uri": "https://localhost:8080/"
        },
        "id": "ugc4vobNjLSY",
        "outputId": "065b5b38-46c4-4f8f-b08c-703025a2a67e"
      },
      "execution_count": 36,
      "outputs": [
        {
          "output_type": "stream",
          "name": "stdout",
          "text": [
            "   temperature  activity  adjusted\n",
            "0            0         3        23\n",
            "1           10         7        27\n",
            "2           20         9        29\n",
            "3           30        14        34\n",
            "4           40        15        35\n"
          ]
        }
      ]
    },
    {
      "cell_type": "code",
      "source": [
        "dt = np.array([[2,2000,2,1,5], [1,1500,1,2,8], [1,1800,2,3,10], [2,2500,1,3,10], [3,3000,2,1,10]])\n",
        "col = ['A', 'B','C','D','E']\n",
        "df = pd.DataFrame(data=dt, columns=col)\n",
        "print(df)"
      ],
      "metadata": {
        "colab": {
          "base_uri": "https://localhost:8080/"
        },
        "id": "C7IFlb99jQG2",
        "outputId": "fe925670-29ef-4863-e72d-3aaf94f4505d"
      },
      "execution_count": 34,
      "outputs": [
        {
          "output_type": "stream",
          "name": "stdout",
          "text": [
            "   A     B  C  D   E\n",
            "0  2  2000  2  1   5\n",
            "1  1  1500  1  2   8\n",
            "2  1  1800  2  3  10\n",
            "3  2  2500  1  3  10\n",
            "4  3  3000  2  1  10\n"
          ]
        }
      ]
    },
    {
      "cell_type": "markdown",
      "source": [
        "Task 1: Create a DataFrame\n",
        "Do the following:\n",
        "\n",
        "Create an 3x4 (3 rows x 4 columns) pandas DataFrame in which the columns are named Eleanor, Chidi, Tahani, and Jason.\n",
        "Populate each of the 12 cells in the DataFrame with a random integer between 0 and 100, inclusive.\n",
        "\n",
        "Output the following:\n",
        "\n",
        "- the entire DataFrame\n",
        "- the value in the cell of row #1 of the Eleanor column\n",
        "- Create a fifth column named Janet, which is populated with the row-by-row sums of Tahani and Jason.\n",
        "\n",
        "To complete this task, it helps to know the NumPy basics covered in the NumPy UltraQuick Tutorial."
      ],
      "metadata": {
        "id": "AAp-fpm9l5TD"
      }
    },
    {
      "cell_type": "code",
      "source": [
        "myData = np.random.randint(low=0, high=100, size=(3, 4))\n",
        "myColums=[\"Eleanor\",\"Chidi\",\"Tahani\",\"Jason\"]\n",
        "dataFrame=pd.DataFrame(data=myData,columns=myColums)\n",
        "print(dataFrame)\n",
        "print()\n",
        "print(\"Eleanor value in first row : \" + str(dataFrame[\"Eleanor\"][1]))\n",
        "print()\n",
        "dataFrame[\"Janet\"]=dataFrame[\"Tahani\"]+dataFrame[\"Jason\"]\n",
        "print(dataFrame)\n",
        "print()"
      ],
      "metadata": {
        "colab": {
          "base_uri": "https://localhost:8080/"
        },
        "id": "DPPwVN9pl6bx",
        "outputId": "1a442c4b-660a-4412-f32d-f317d8d96ee1"
      },
      "execution_count": 58,
      "outputs": [
        {
          "output_type": "stream",
          "name": "stdout",
          "text": [
            "   Eleanor  Chidi  Tahani  Jason\n",
            "0       61     96      44     52\n",
            "1       23      8      59     74\n",
            "2       35     25      17     55\n",
            "\n",
            "Eleanor value in first row : 23\n",
            "\n",
            "   Eleanor  Chidi  Tahani  Jason  Janet\n",
            "0       61     96      44     52     96\n",
            "1       23      8      59     74    133\n",
            "2       35     25      17     55     72\n",
            "\n"
          ]
        }
      ]
    }
  ]
}